{
 "cells": [
  {
   "cell_type": "code",
   "execution_count": null,
   "id": "smooth-contrary",
   "metadata": {},
   "outputs": [],
   "source": [
    "import pandas as pd\n",
    "import datetime\n",
    "import numpy as np\n",
    "import matplotlib.pyplot as plt\n",
    "import sys\n",
    "sys.path.append(\"../i4c/\")\n",
    "\n",
    "import disturbances\n",
    "from data.buildings.test.sfh_84_94_soc import sfh_84_94_soc\n",
    "from data.buildings.test.sfh_84_94_ad_ref import sfh_84_94_ad_ref"
   ]
  },
  {
   "cell_type": "markdown",
   "id": "415ae61e",
   "metadata": {},
   "source": [
    "# Data Engineering\n",
    "\n",
    "This Jupyter notebook was used to merge the the price and weather data. Unfortunetely, the price data is licences and therefore not public. The weather data was obtained from https://ec.europa.eu/jrc/en/PVGIS/tools/tmy"
   ]
  },
  {
   "cell_type": "markdown",
   "id": "a477408a",
   "metadata": {},
   "source": [
    "# Merge Price Files"
   ]
  },
  {
   "cell_type": "code",
   "execution_count": null,
   "id": "bfe260ce",
   "metadata": {},
   "outputs": [],
   "source": [
    "all_eval_prices  = pd.DataFrame()"
   ]
  },
  {
   "cell_type": "code",
   "execution_count": null,
   "id": "712ca608",
   "metadata": {},
   "outputs": [],
   "source": [
    "eval_prices = pd.read_csv('', header=None)\n",
    "eval_prices['timestamp'] = pd.date_range(\"\", periods=8760, freq=\"H\")"
   ]
  },
  {
   "cell_type": "code",
   "execution_count": null,
   "id": "1e4ccba3",
   "metadata": {},
   "outputs": [],
   "source": [
    "all_eval_prices = all_eval_prices.append(eval_prices)"
   ]
  },
  {
   "cell_type": "code",
   "execution_count": null,
   "id": "90cb9e2b",
   "metadata": {},
   "outputs": [],
   "source": [
    "all_eval_prices.to_csv('')"
   ]
  },
  {
   "cell_type": "markdown",
   "id": "generous-annotation",
   "metadata": {},
   "source": [
    "# Preprocess data from\n",
    "\n",
    "https://ec.europa.eu/jrc/en/PVGIS/tools/tmy"
   ]
  },
  {
   "cell_type": "code",
   "execution_count": null,
   "id": "324e0ee1",
   "metadata": {},
   "outputs": [],
   "source": [
    "YEARS = [2010, 2011, 2012, 2013, 2014, 2015, 2016]\n",
    "TEST_YEAR = [2016]\n",
    "EVAL_YEAR = [2010]\n",
    "TRAIN_YEAR = [2010, 2011, 2012, 2013, 2014, 2015]\n",
    "FILE_WITH_GAINS = ''\n",
    "\n",
    "FILE_WITHOUT_GAINS = ''"
   ]
  },
  {
   "cell_type": "code",
   "execution_count": null,
   "id": "8db76dc1",
   "metadata": {},
   "outputs": [],
   "source": [
    "weather_data = pd.read_csv(FILE_WITH_GAINS, skiprows=8)\n",
    "weather_data = weather_data.dropna()\n",
    "weather_data['Time'] = pd.to_datetime(weather_data['time'], format='%Y%m%d:%H%M')\n",
    "weather_data = weather_data.rename(columns={\"T2m\": \"T_amb\"})\n",
    "weather_data['Time'] = weather_data['Time'] - datetime.timedelta(minutes=10)\n",
    "weather_data = weather_data[weather_data['Time'].dt.year.isin(YEARS)]\n",
    "weather_data = weather_data.reset_index()\n",
    "\n",
    "weather_data_g = pd.read_csv(FILE_WITHOUT_GAINS, skiprows=8)\n",
    "weather_data_g = weather_data_g.dropna()\n",
    "weather_data_g['Time'] = pd.to_datetime(weather_data_g['time'], format='%Y%m%d:%H%M')\n",
    "weather_data_g = weather_data_g.rename(columns={\"T2m\": \"T_amb\"})\n",
    "weather_data_g['Time'] = weather_data_g['Time'] - datetime.timedelta(minutes=10)\n",
    "weather_data_g = weather_data_g[weather_data_g['Time'].dt.year.isin(YEARS)]\n",
    "weather_data_g = weather_data_g.reset_index()\n",
    "\n",
    "weather_data['G(i)'] = weather_data_g['G(i)']"
   ]
  },
  {
   "cell_type": "markdown",
   "id": "67078771",
   "metadata": {},
   "source": [
    "### Merge with electricity stock price data"
   ]
  },
  {
   "cell_type": "code",
   "execution_count": null,
   "id": "d493ef73",
   "metadata": {},
   "outputs": [],
   "source": [
    "e_prices = pd.read_csv('', parse_dates=['timestamp'])\n",
    "e_prices = e_prices[e_prices['timestamp'].dt.year.isin(YEARS)]\n",
    "weather_data['EEX'] = e_prices['0']\n",
    "\n",
    "weather_data.to_csv('')"
   ]
  },
  {
   "cell_type": "markdown",
   "id": "41aa6bcd",
   "metadata": {},
   "source": [
    "### Drop Test Data"
   ]
  },
  {
   "cell_type": "code",
   "execution_count": null,
   "id": "a66ed58f",
   "metadata": {},
   "outputs": [],
   "source": [
    "weather_data[weather_data['Time'].dt.year.isin(TEST_YEAR)].to_csv('')"
   ]
  },
  {
   "cell_type": "markdown",
   "id": "1dd8dad3",
   "metadata": {},
   "source": [
    "### Drop Eval Data\n"
   ]
  },
  {
   "cell_type": "code",
   "execution_count": null,
   "id": "b3c69a5b",
   "metadata": {},
   "outputs": [],
   "source": [
    "eval_data = weather_data[weather_data['Time'].dt.year.isin([2013])]\n",
    "eval_data = eval_data[eval_data['Time'].dt.month.isin([10,11,12])]\n",
    "eval_data.to_csv('')"
   ]
  },
  {
   "cell_type": "markdown",
   "id": "06b7b77f",
   "metadata": {},
   "source": [
    "### Drop Train Data"
   ]
  },
  {
   "cell_type": "code",
   "execution_count": null,
   "id": "eeea0f6a",
   "metadata": {},
   "outputs": [],
   "source": [
    "weather_data[weather_data['Time'].dt.year.isin(TRAIN_YEAR)].to_csv('')"
   ]
  },
  {
   "cell_type": "markdown",
   "id": "2cb0c5ba",
   "metadata": {},
   "source": [
    "# Add gains profile for robustness testing\n",
    "\n",
    "Caution, this was not included in the master thesis but was already provided for future works."
   ]
  },
  {
   "cell_type": "code",
   "execution_count": null,
   "id": "4f1a6cef",
   "metadata": {},
   "outputs": [],
   "source": [
    "COLS_TO_USE = ['Time', 'EEX', 'T_amb', 'Gb(i)', 'Gd(i)', 'Gr(i)', 'G(i)']\n",
    "test_data = pd.read_csv('', parse_dates=['Time'])\n",
    "test_data = test_data[COLS_TO_USE]\n",
    "\n",
    "solar_df = pd.DataFrame({'dhi': test_data['Gd(i)'], \n",
    "                         'ghi': test_data['G(i)'], \n",
    "                         'dni': test_data['Gb(i)'], \n",
    "                         'time': test_data['Time']\n",
    "                        }).set_index('time')\n",
    "\n",
    "test_data['gains'] = disturbances.get_solar_gains(solar_df, sfh_84_94_soc).values\n",
    "test_data['blow_air'] = np.random.choice(a=[False, True], size=(len(test_data)), p=[0.97, 0.03])"
   ]
  },
  {
   "cell_type": "code",
   "execution_count": null,
   "id": "7fc6befd",
   "metadata": {},
   "outputs": [],
   "source": [
    "test_data.set_index('Time')[0:100]['gains'].plot()"
   ]
  },
  {
   "cell_type": "code",
   "execution_count": null,
   "id": "4f2f7771",
   "metadata": {},
   "outputs": [],
   "source": [
    "test_data.to_csv('')"
   ]
  }
 ],
 "metadata": {
  "kernelspec": {
   "display_name": "Python 3 (ipykernel)",
   "language": "python",
   "name": "python3"
  },
  "language_info": {
   "codemirror_mode": {
    "name": "ipython",
    "version": 3
   },
   "file_extension": ".py",
   "mimetype": "text/x-python",
   "name": "python",
   "nbconvert_exporter": "python",
   "pygments_lexer": "ipython3",
   "version": "3.8.12"
  }
 },
 "nbformat": 4,
 "nbformat_minor": 5
}
